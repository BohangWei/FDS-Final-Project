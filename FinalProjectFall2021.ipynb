{
 "cells": [
  {
   "cell_type": "markdown",
   "id": "fcd8ec85",
   "metadata": {},
   "source": [
    "# Final Project\n",
    "\n",
    "Financial Data Science II\n",
    "\n",
    "Fall 2021\n",
    "\n",
    "**Due Tuesday, December 7 at 5:00 PM**"
   ]
  },
  {
   "cell_type": "markdown",
   "id": "30a71dfc",
   "metadata": {},
   "source": [
    "## Guidelines\n",
    "\n",
    "You should submit both your `.ipynb` file and a `.pdf` version of the notebook via Canvas.\n",
    "\n",
    "We should be able to take your code, and easily run it. It can load standard Python packages, of course, but it should otherwise be self-contained, not reliant upon any other code.\n",
    "\n",
    "This is to be completed in your groups. All group members should participate in, and understand, all aspects of the analysis.\n",
    "\n",
    "**Different groups are not allowed to interact or in any way communicate regarding their analyses.**\n",
    "\n",
    "We are not looking for a formal \"report,\" but **explain what you are doing** and **state any conclusions in practical terms.** For example, do not just say \"The p-value is 0.02.\" What does that mean in practical terms?\n",
    "\n",
    "Visualizations will be graded, in part, on their readability. Make fonts sufficiently large. Do not label axes with things such as \"CSCORE_B.\" Use readable names.\n",
    "\n",
    "You can email me with questions. If it is relevant to the entire class, I will ask you to post it on the Discussion Board. Please do not post questions directly to the Discussion Board regarding this, however."
   ]
  },
  {
   "cell_type": "markdown",
   "id": "ce027cdb",
   "metadata": {},
   "source": [
    "## The Data\n",
    "\n",
    "We will continue using the Fannie Mae data set used in the Homeworks 2 and 3. Here we will use a different subset. Just as in Homework 2, it only contains loans for which there is a current unpaid balance, i.e. for which `CURRENT_UPB` is greater than zero.\n",
    "\n",
    "This data file is available as `project.csv` on Canvas."
   ]
  },
  {
   "cell_type": "markdown",
   "id": "6820cc6c",
   "metadata": {},
   "source": [
    "## Your Objective\n",
    "\n",
    "Imagine that you are constructing a simulation model that will generate realistic-looking loans of the type shown in this data set. We will focus here on one particular aspect of this: Simulating credit scores.\n",
    "\n",
    "Our focus will be on the column `CSCORE_B`.\n",
    "\n"
   ]
  },
  {
   "cell_type": "markdown",
   "id": "0215d8a7",
   "metadata": {},
   "source": [
    "## Specific Steps\n",
    "\n",
    "1. There are four missing values in `CSCORE_B`. Fill them in by using the following procedure: Cluster the loans, and then determine which cluster each of the loans with the missing value belong to. Replace the missing credit score value with the average credit score of those observations in the same cluster. Of course, the procedure cannot use `CSCORE_B` as one of the variables used to cluster loans. You can use any clustering procedure of your choice.\n",
    "2. Visualize the distribution of `CSCORE_B`. Comment on its shape.\n",
    "3. Find a parametric model that fits to the distribution of `CSCORE_B`. You can consider any distribution you would like, as long as it is parametric. Justify your choice using visualization and AIC. As in any real-world problem, you should not expect the fit to be \"perfect.\" Get the best-fitting parametric distribution that you can. Report the MLE of the parameters for this fit.\n",
    "4. Visualize how the distribution of `CSCORE_B` varies over different property types, i.e., for different values of `PROP`. Does it seem that the distribution changes across the different values of `PROP`? (Just to be clear, when I say \"the distribution changes\" I mean any aspect of the distribution changes. For example, going from a Normal(10,2) distribution to a Normal(12,2) is a \"change\" in distribution.)\n",
    "5. Is there strong evidence that the distribution of `CSCORE_B` varies across the different values of `PROP`? Test a relevant hypothesis, and report the p-value. This test should be performed using a likelihood ratio test."
   ]
  },
  {
   "cell_type": "markdown",
   "id": "620a5542",
   "metadata": {},
   "source": [
    "## Grading\n",
    "\n",
    "Each of the five steps listed above will be assessed and scored based on three elements: (1) Appropriate choice of method(s) of analysis and/or visualization, (2) correct implmentation of those method(s), and (3) valid interpretation of the results. Each of these three elements will be given equal weight, and the total points allocated to each step are as follows: Step 1, 18 points. Step 2, 6 points. Step 3, 15 points. Step 4, 6 points. Step 5, 18 points. This is a total of 63 points.\n",
    "\n",
    "In addition, the notebooks will be assessed based on the overall quality of the visualizations (on a scale of 0 to 6 points) on the overall quality of practical explanations of results (on a scale of 0 to 6 points), and on overall organization of the notebook, i.e., can we find where the different steps are, etc., or is it a mess (on a scale of 0 to 5 points).\n",
    "\n",
    "Hence, there are total of 80 points."
   ]
  },
  {
   "cell_type": "markdown",
   "id": "ea60a5fc",
   "metadata": {},
   "source": [
    "## Peer Assessment\n",
    "\n",
    "This is everyone's least favorite part, but I have little choice but to incoporate some component of peer feedback, i.e. assessing how much your groupmates contributed to the work. Without this, I have little basis for avoiding problems where students let the work fall on their groupmates.\n",
    "\n",
    "Any negative information found through this process will be investigated by the instructor.\n",
    "\n",
    "I do reserve the right to adjust individual students' grades based on lack of engagement with the project.\n",
    "\n",
    "The easy way to avoid any problems is to make sure that everyone is engaged and participating. Please advise me of any issues as soon as possible."
   ]
  },
  {
   "cell_type": "code",
   "execution_count": null,
   "id": "edbe25b5",
   "metadata": {},
   "outputs": [],
   "source": [
    "import numpy as np\n",
    "import pandas as pd\n",
    "import seaborn as sns"
   ]
  },
  {
   "cell_type": "code",
   "execution_count": 1,
   "id": "a5a28852",
   "metadata": {},
   "outputs": [
    {
     "name": "stdout",
     "output_type": "stream",
     "text": [
      "Requirement already satisfied: umap-learn in /Users/junichikoganemaru/opt/anaconda3/lib/python3.8/site-packages (0.5.2)\n",
      "Requirement already satisfied: tqdm in /Users/junichikoganemaru/opt/anaconda3/lib/python3.8/site-packages (from umap-learn) (4.59.0)\n",
      "Requirement already satisfied: numba>=0.49 in /Users/junichikoganemaru/opt/anaconda3/lib/python3.8/site-packages (from umap-learn) (0.53.1)\n",
      "Requirement already satisfied: pynndescent>=0.5 in /Users/junichikoganemaru/opt/anaconda3/lib/python3.8/site-packages (from umap-learn) (0.5.5)\n",
      "Requirement already satisfied: scikit-learn>=0.22 in /Users/junichikoganemaru/opt/anaconda3/lib/python3.8/site-packages (from umap-learn) (0.24.1)\n",
      "Requirement already satisfied: scipy>=1.0 in /Users/junichikoganemaru/opt/anaconda3/lib/python3.8/site-packages (from umap-learn) (1.6.2)\n",
      "Requirement already satisfied: numpy>=1.17 in /Users/junichikoganemaru/opt/anaconda3/lib/python3.8/site-packages (from umap-learn) (1.19.5)\n",
      "Requirement already satisfied: llvmlite<0.37,>=0.36.0rc1 in /Users/junichikoganemaru/opt/anaconda3/lib/python3.8/site-packages (from numba>=0.49->umap-learn) (0.36.0)\n",
      "Requirement already satisfied: setuptools in /Users/junichikoganemaru/opt/anaconda3/lib/python3.8/site-packages (from numba>=0.49->umap-learn) (52.0.0.post20210125)\n",
      "Requirement already satisfied: joblib>=0.11 in /Users/junichikoganemaru/opt/anaconda3/lib/python3.8/site-packages (from pynndescent>=0.5->umap-learn) (1.0.1)\n",
      "Requirement already satisfied: threadpoolctl>=2.0.0 in /Users/junichikoganemaru/opt/anaconda3/lib/python3.8/site-packages (from scikit-learn>=0.22->umap-learn) (2.1.0)\n"
     ]
    }
   ],
   "source": [
    "import sys\n",
    "!{sys.executable} -m pip install umap-learn"
   ]
  },
  {
   "cell_type": "code",
   "execution_count": null,
   "id": "51295a4d",
   "metadata": {},
   "outputs": [],
   "source": []
  }
 ],
 "metadata": {
  "kernelspec": {
   "display_name": "Python 3 (ipykernel)",
   "language": "python",
   "name": "python3"
  },
  "language_info": {
   "codemirror_mode": {
    "name": "ipython",
    "version": 3
   },
   "file_extension": ".py",
   "mimetype": "text/x-python",
   "name": "python",
   "nbconvert_exporter": "python",
   "pygments_lexer": "ipython3",
   "version": "3.8.8"
  }
 },
 "nbformat": 4,
 "nbformat_minor": 5
}
